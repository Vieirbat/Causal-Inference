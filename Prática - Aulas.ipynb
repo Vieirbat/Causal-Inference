{
 "cells": [
  {
   "cell_type": "markdown",
   "metadata": {},
   "source": [
    "# Curso de Inferância Causal"
   ]
  },
  {
   "cell_type": "markdown",
   "metadata": {},
   "source": [
    "- Dependências:"
   ]
  },
  {
   "cell_type": "code",
   "execution_count": 1,
   "metadata": {},
   "outputs": [],
   "source": [
    "import numpy as np\n",
    "import statistics as st\n",
    "import statsmodels as sm\n",
    "import pandas as pd\n",
    "import scipy as sp\n",
    "import numpy as np\n",
    "import seaborn as sb\n",
    "from matplotlib import pyplot as plt"
   ]
  },
  {
   "cell_type": "markdown",
   "metadata": {},
   "source": [
    "# Aula 1 - Introdução à Inferência Causal"
   ]
  },
  {
   "cell_type": "markdown",
   "metadata": {},
   "source": [
    "- Queremos estabelecer modelos genéricos a partir de situações restritas;\n",
    "\n",
    "- Mostrar exemplos de como usamos estimações no dia-a-dia;\n",
    "- Mostrar exemplos de como poderíamos validar uma máquina, em sua produção;\n",
    "- Mostrar exemplo das eleições;\n",
    "- Mostrar exemplo das vacinas;\n",
    "\n",
    "- Problemas de superstições, conseguimos ver padrões em todo lugar, viéses;\n",
    "    - Apofenia;"
   ]
  },
  {
   "cell_type": "markdown",
   "metadata": {},
   "source": [
    "- Usar a ferramenta estatística para conseguir fazer inferência;\n",
    "- Fugindo de viéses, vamos usar a inferência estatística para inferir comportamentos de uma população usando uma amostra;"
   ]
  },
  {
   "cell_type": "markdown",
   "metadata": {},
   "source": [
    "- A inferência estatística, no fundo, é só uma maneira de manter nossas extrapolações sob controle;\n",
    "- Métodos que nos permitem ter ideia do tamanho e validade das nossas extrapolações;"
   ]
  },
  {
   "cell_type": "markdown",
   "metadata": {},
   "source": [
    "- Mostrar uma análise gráfica e perguntar se há diferença entre grupos;\n",
    "- Mostrar uma outra análise gráfica mais difícil de enxergar a diferença;\n",
    "- Temos que ter métodos mais sofisticados para dizermos que existem diferenças;"
   ]
  },
  {
   "cell_type": "markdown",
   "metadata": {},
   "source": [
    "#### Conceitual de Inferência Estatistica\n",
    "\n",
    "- Ferramenta para gerar conclusões sobre uma população a partir de uma amostra ruidosa;"
   ]
  },
  {
   "cell_type": "markdown",
   "metadata": {},
   "source": [
    "- População: conjunto de todos os elementos ou resultados sob investigação;\n",
    "- Amostra: qualquer subconjunto da população;\n",
    "\n",
    "<hr>\n",
    "\n",
    "![image](img/inferencia.JPG)\n",
    "\n",
    "<hr>\n",
    "\n",
    "- Estatísticas são funções, números extraídos da amostra;\n",
    "- A estatística nos ajuda a extrapolar para uma população da qual nossa amostra seja representativa;\n",
    "- Evidentemente vamos querer extrapolar os dados para outras populações que não temos como incluir na amostra;\n",
    "\n",
    "<hr>\n",
    "\n",
    "- Qual que é a chance de encontrar, pelo puro acaso, uma diferença entre as amostras mais extrema do que aquela que foi de fato encontrada? "
   ]
  },
  {
   "cell_type": "markdown",
   "metadata": {},
   "source": [
    "# Aula 2 - Estatísticas Descritivas - Estimação Sem Viés dos Parâmetros"
   ]
  },
  {
   "cell_type": "markdown",
   "metadata": {},
   "source": [
    "- Estatística descritiva:\n",
    "    - Tendência central:\n",
    "        - Média;\n",
    "        - Mediana;\n",
    "        - Moda;\n",
    "    - Espalhamento:\n",
    "        - Amplitude;\n",
    "        - Variância;\n",
    "        - Desvio padrão;\n",
    "        - Intervalo interquartil;"
   ]
  },
  {
   "cell_type": "markdown",
   "metadata": {},
   "source": [
    "- As estatísticas amostrais estimam os parâmetros populacionais?"
   ]
  },
  {
   "cell_type": "markdown",
   "metadata": {},
   "source": [
    "#### A média amostral é um bom estimador da média populacional?\n",
    "$$\\bar{x}= \\frac{\\sum_{i=1}^{n} x_i}{n} \\xrightarrow{estima} \\mu = \\frac{\\sum_{i=1}^{N} x_i}{N}$$\n",
    "\n",
    "<hr>\n",
    "\n",
    "- onde n é o tamanho amostral e N é o parâmetro populacional, tamanho da população;"
   ]
  },
  {
   "cell_type": "markdown",
   "metadata": {},
   "source": [
    "-  Vamos realizar um exemplo/simulação:\n",
    "    - Vamos pegar uma população:"
   ]
  },
  {
   "cell_type": "code",
   "execution_count": 2,
   "metadata": {},
   "outputs": [],
   "source": [
    "# população\n",
    "p = [1,2,3]\n",
    "\n",
    "p = pd.Series(p)"
   ]
  },
  {
   "cell_type": "code",
   "execution_count": 3,
   "metadata": {},
   "outputs": [
    {
     "data": {
      "text/plain": [
       "2.0"
      ]
     },
     "execution_count": 3,
     "metadata": {},
     "output_type": "execute_result"
    }
   ],
   "source": [
    "# Média da população\n",
    "p.mean()"
   ]
  },
  {
   "cell_type": "markdown",
   "metadata": {},
   "source": [
    "- Vamos pegar uma amostra de dois elementos desta população e tirar a média:"
   ]
  },
  {
   "cell_type": "code",
   "execution_count": 4,
   "metadata": {},
   "outputs": [],
   "source": [
    "tamanho_amostra = 2\n",
    "quantidade_amostras = 10000\n",
    "\n",
    "lista_media_amostras = []\n",
    "\n",
    "for num_amostra in range(quantidade_amostras):\n",
    "    # criando uma amostra de tamanho \"tamanho_amostra\" com reposição\n",
    "    amostra = p.sample(n=tamanho_amostra, replace=True)\n",
    "    media_amostra = amostra.mean()\n",
    "    lista_media_amostras.append(media_amostra)"
   ]
  },
  {
   "cell_type": "code",
   "execution_count": 5,
   "metadata": {},
   "outputs": [
    {
     "data": {
      "text/plain": [
       "Text(0, 0.5, 'Frequência das Médias das Amostras')"
      ]
     },
     "execution_count": 5,
     "metadata": {},
     "output_type": "execute_result"
    },
    {
     "data": {
      "image/png": "[encoded data removed]",
      "text/plain": [
       "<Figure size 864x504 with 1 Axes>"
      ]
     },
     "metadata": {
      "needs_background": "light"
     },
     "output_type": "display_data"
    }
   ],
   "source": [
    "ax, fig = plt.subplots(nrows=1, ncols=1, figsize=(12,7))\n",
    "ax = sb.histplot(lista_media_amostras)\n",
    "\n",
    "ax.set_title(\"Estimador da Média Populacional\")\n",
    "\n",
    "ax.set_xlabel(\"Média das Amostras\")\n",
    "ax.set_ylabel(\"Frequência das Médias das Amostras\")"
   ]
  },
  {
   "cell_type": "markdown",
   "metadata": {},
   "source": [
    "#### A variância amostral é um bom estimador da variância populacional?\n",
    "$$s^{2} = \\frac{\\sum_{i=1}^{n} (x_i-\\bar{X})^{2}}{n} \\xrightarrow{estima} \\sigma^{2} = \\frac{\\sum_{i=1}^{N} (x_i-\\mu)^{2}}{N}$$\n",
    "\n",
    "<hr>\n",
    "\n",
    "- onde n é o tamanho amostral e N é o parâmetro populacional, tamanho da população;"
   ]
  },
  {
   "cell_type": "markdown",
   "metadata": {},
   "source": [
    "-  Vamos realizar um exemplo/simulação:\n",
    "    - Vamos pegar uma população:"
   ]
  },
  {
   "cell_type": "code",
   "execution_count": 6,
   "metadata": {},
   "outputs": [],
   "source": [
    "# população\n",
    "p = [1,2,3]\n",
    "\n",
    "p = pd.Series(p)"
   ]
  },
  {
   "cell_type": "code",
   "execution_count": 7,
   "metadata": {},
   "outputs": [
    {
     "data": {
      "text/plain": [
       "2.0"
      ]
     },
     "execution_count": 7,
     "metadata": {},
     "output_type": "execute_result"
    }
   ],
   "source": [
    "# Média da população\n",
    "p.mean()"
   ]
  },
  {
   "cell_type": "code",
   "execution_count": 8,
   "metadata": {},
   "outputs": [
    {
     "data": {
      "text/plain": [
       "0.6666666666666666"
      ]
     },
     "execution_count": 8,
     "metadata": {},
     "output_type": "execute_result"
    }
   ],
   "source": [
    "p.var(ddof=0)"
   ]
  },
  {
   "cell_type": "code",
   "execution_count": 9,
   "metadata": {},
   "outputs": [
    {
     "data": {
      "text/plain": [
       "0.6666666666666666"
      ]
     },
     "execution_count": 9,
     "metadata": {},
     "output_type": "execute_result"
    }
   ],
   "source": [
    "sum((p-p.mean())**2)/p.shape[0]"
   ]
  },
  {
   "cell_type": "markdown",
   "metadata": {},
   "source": [
    "- Vamos pegar uma amostra de dois elementos desta população e tirar a média:"
   ]
  },
  {
   "cell_type": "code",
   "execution_count": 10,
   "metadata": {},
   "outputs": [],
   "source": [
    "tamanho_amostra = 2\n",
    "quantidade_amostras = 1000\n",
    "\n",
    "lista_var_amostras = []\n",
    "\n",
    "for num_amostra in range(quantidade_amostras):\n",
    "    # criando uma amostra de tamanho \"tamanho_amostra\" com reposição\n",
    "    amostra = p.sample(n=tamanho_amostra, replace=True)\n",
    "    var_amostra = amostra.var(ddof=0)\n",
    "    lista_var_amostras.append(var_amostra)"
   ]
  },
  {
   "cell_type": "code",
   "execution_count": 11,
   "metadata": {},
   "outputs": [
    {
     "data": {
      "text/plain": [
       "Text(0, 0.5, 'Frequência das Variâncias das Amostras')"
      ]
     },
     "execution_count": 11,
     "metadata": {},
     "output_type": "execute_result"
    },
    {
     "data": {
      "image/png": "[encoded data removed]",
      "text/plain": [
       "<Figure size 864x504 with 1 Axes>"
      ]
     },
     "metadata": {
      "needs_background": "light"
     },
     "output_type": "display_data"
    }
   ],
   "source": [
    "ax, fig = plt.subplots(nrows=1, ncols=1, figsize=(12,7))\n",
    "ax = sb.histplot(lista_var_amostras)\n",
    "\n",
    "ax.set_title(\"Estimador da Variância Populacional\")\n",
    "\n",
    "ax.set_xlabel(\"Variância das Amostras\")\n",
    "ax.set_ylabel(\"Frequência das Variâncias das Amostras\")"
   ]
  },
  {
   "cell_type": "markdown",
   "metadata": {},
   "source": [
    "- Parece que a variância amostral não estima a variância populacional:\n",
    "    - É um estimador enviesado;"
   ]
  },
  {
   "cell_type": "markdown",
   "metadata": {},
   "source": [
    "       "
   ]
  },
  {
   "cell_type": "markdown",
   "metadata": {},
   "source": [
    "- Corrigindo esse viés, vamos agora usar o mesmo código mas variar o tamanho da amostra:"
   ]
  },
  {
   "cell_type": "code",
   "execution_count": 12,
   "metadata": {},
   "outputs": [],
   "source": [
    "# população\n",
    "p = [1,2,3]\n",
    "p = pd.Series(p)\n",
    "\n",
    "lista_valores = []\n",
    "for tamanho_amostra in range(2,101,1):\n",
    "    \n",
    "    dictValores = {}\n",
    "    \n",
    "    dictValores['pop'] = p.size\n",
    "    dictValores['tamanho_amostra'] = tamanho_amostra\n",
    "    dictValores['quantidade_amostras'] = 10000\n",
    "    dictValores['var_pop'] = p.var(ddof=0)\n",
    "\n",
    "    lista_var_amostras = []\n",
    "    for num_amostra in range(dictValores['quantidade_amostras']):\n",
    "        # criando uma amostra de tamanho \"tamanho_amostra\" com reposição\n",
    "        amostra = p.sample(n=tamanho_amostra, replace=True)\n",
    "        var_amostra = amostra.var(ddof=0)\n",
    "        lista_var_amostras.append(var_amostra)\n",
    "    \n",
    "    dictValores['var_amostra'] = pd.Series(lista_var_amostras).mean()\n",
    "    dictValores['var_amostra/var_pop'] = round(dictValores['var_amostra']/dictValores['var_pop'],2)\n",
    "    dictValores['(n-1)/n'] = round((tamanho_amostra-1)/tamanho_amostra,2)\n",
    "    \n",
    "    lista_valores.append(dictValores)\n",
    "    \n",
    "df_dados = pd.DataFrame(lista_valores)"
   ]
  },
  {
   "cell_type": "code",
   "execution_count": 13,
   "metadata": {},
   "outputs": [
    {
     "data": {
      "text/html": [
       "<div>\n",
       "<style scoped>\n",
       "    .dataframe tbody tr th:only-of-type {\n",
       "        vertical-align: middle;\n",
       "    }\n",
       "\n",
       "    .dataframe tbody tr th {\n",
       "        vertical-align: top;\n",
       "    }\n",
       "\n",
       "    .dataframe thead th {\n",
       "        text-align: right;\n",
       "    }\n",
       "</style>\n",
       "<table border=\"1\" class=\"dataframe\">\n",
       "  <thead>\n",
       "    <tr style=\"text-align: right;\">\n",
       "      <th></th>\n",
       "      <th>pop</th>\n",
       "      <th>tamanho_amostra</th>\n",
       "      <th>quantidade_amostras</th>\n",
       "      <th>var_pop</th>\n",
       "      <th>var_amostra</th>\n",
       "      <th>var_amostra/var_pop</th>\n",
       "      <th>(n-1)/n</th>\n",
       "    </tr>\n",
       "  </thead>\n",
       "  <tbody>\n",
       "    <tr>\n",
       "      <th>0</th>\n",
       "      <td>3</td>\n",
       "      <td>2</td>\n",
       "      <td>10000</td>\n",
       "      <td>0.666667</td>\n",
       "      <td>0.328800</td>\n",
       "      <td>0.49</td>\n",
       "      <td>0.50</td>\n",
       "    </tr>\n",
       "    <tr>\n",
       "      <th>1</th>\n",
       "      <td>3</td>\n",
       "      <td>3</td>\n",
       "      <td>10000</td>\n",
       "      <td>0.666667</td>\n",
       "      <td>0.446711</td>\n",
       "      <td>0.67</td>\n",
       "      <td>0.67</td>\n",
       "    </tr>\n",
       "    <tr>\n",
       "      <th>2</th>\n",
       "      <td>3</td>\n",
       "      <td>4</td>\n",
       "      <td>10000</td>\n",
       "      <td>0.666667</td>\n",
       "      <td>0.498231</td>\n",
       "      <td>0.75</td>\n",
       "      <td>0.75</td>\n",
       "    </tr>\n",
       "    <tr>\n",
       "      <th>3</th>\n",
       "      <td>3</td>\n",
       "      <td>5</td>\n",
       "      <td>10000</td>\n",
       "      <td>0.666667</td>\n",
       "      <td>0.535952</td>\n",
       "      <td>0.80</td>\n",
       "      <td>0.80</td>\n",
       "    </tr>\n",
       "    <tr>\n",
       "      <th>4</th>\n",
       "      <td>3</td>\n",
       "      <td>6</td>\n",
       "      <td>10000</td>\n",
       "      <td>0.666667</td>\n",
       "      <td>0.554939</td>\n",
       "      <td>0.83</td>\n",
       "      <td>0.83</td>\n",
       "    </tr>\n",
       "    <tr>\n",
       "      <th>5</th>\n",
       "      <td>3</td>\n",
       "      <td>7</td>\n",
       "      <td>10000</td>\n",
       "      <td>0.666667</td>\n",
       "      <td>0.569188</td>\n",
       "      <td>0.85</td>\n",
       "      <td>0.86</td>\n",
       "    </tr>\n",
       "    <tr>\n",
       "      <th>6</th>\n",
       "      <td>3</td>\n",
       "      <td>8</td>\n",
       "      <td>10000</td>\n",
       "      <td>0.666667</td>\n",
       "      <td>0.585083</td>\n",
       "      <td>0.88</td>\n",
       "      <td>0.88</td>\n",
       "    </tr>\n",
       "    <tr>\n",
       "      <th>7</th>\n",
       "      <td>3</td>\n",
       "      <td>9</td>\n",
       "      <td>10000</td>\n",
       "      <td>0.666667</td>\n",
       "      <td>0.592783</td>\n",
       "      <td>0.89</td>\n",
       "      <td>0.89</td>\n",
       "    </tr>\n",
       "    <tr>\n",
       "      <th>8</th>\n",
       "      <td>3</td>\n",
       "      <td>10</td>\n",
       "      <td>10000</td>\n",
       "      <td>0.666667</td>\n",
       "      <td>0.599956</td>\n",
       "      <td>0.90</td>\n",
       "      <td>0.90</td>\n",
       "    </tr>\n",
       "    <tr>\n",
       "      <th>9</th>\n",
       "      <td>3</td>\n",
       "      <td>11</td>\n",
       "      <td>10000</td>\n",
       "      <td>0.666667</td>\n",
       "      <td>0.605932</td>\n",
       "      <td>0.91</td>\n",
       "      <td>0.91</td>\n",
       "    </tr>\n",
       "  </tbody>\n",
       "</table>\n",
       "</div>"
      ],
      "text/plain": [
       "   pop  tamanho_amostra  quantidade_amostras   var_pop  var_amostra  \\\n",
       "0    3                2                10000  0.666667     0.328800   \n",
       "1    3                3                10000  0.666667     0.446711   \n",
       "2    3                4                10000  0.666667     0.498231   \n",
       "3    3                5                10000  0.666667     0.535952   \n",
       "4    3                6                10000  0.666667     0.554939   \n",
       "5    3                7                10000  0.666667     0.569188   \n",
       "6    3                8                10000  0.666667     0.585083   \n",
       "7    3                9                10000  0.666667     0.592783   \n",
       "8    3               10                10000  0.666667     0.599956   \n",
       "9    3               11                10000  0.666667     0.605932   \n",
       "\n",
       "   var_amostra/var_pop  (n-1)/n  \n",
       "0                 0.49     0.50  \n",
       "1                 0.67     0.67  \n",
       "2                 0.75     0.75  \n",
       "3                 0.80     0.80  \n",
       "4                 0.83     0.83  \n",
       "5                 0.85     0.86  \n",
       "6                 0.88     0.88  \n",
       "7                 0.89     0.89  \n",
       "8                 0.90     0.90  \n",
       "9                 0.91     0.91  "
      ]
     },
     "execution_count": 13,
     "metadata": {},
     "output_type": "execute_result"
    }
   ],
   "source": [
    "df_dados.head(10)"
   ]
  },
  {
   "cell_type": "code",
   "execution_count": 14,
   "metadata": {},
   "outputs": [
    {
     "data": {
      "text/html": [
       "<div>\n",
       "<style scoped>\n",
       "    .dataframe tbody tr th:only-of-type {\n",
       "        vertical-align: middle;\n",
       "    }\n",
       "\n",
       "    .dataframe tbody tr th {\n",
       "        vertical-align: top;\n",
       "    }\n",
       "\n",
       "    .dataframe thead th {\n",
       "        text-align: right;\n",
       "    }\n",
       "</style>\n",
       "<table border=\"1\" class=\"dataframe\">\n",
       "  <thead>\n",
       "    <tr style=\"text-align: right;\">\n",
       "      <th></th>\n",
       "      <th>pop</th>\n",
       "      <th>tamanho_amostra</th>\n",
       "      <th>quantidade_amostras</th>\n",
       "      <th>var_pop</th>\n",
       "      <th>var_amostra</th>\n",
       "      <th>var_amostra/var_pop</th>\n",
       "      <th>(n-1)/n</th>\n",
       "    </tr>\n",
       "  </thead>\n",
       "  <tbody>\n",
       "    <tr>\n",
       "      <th>89</th>\n",
       "      <td>3</td>\n",
       "      <td>91</td>\n",
       "      <td>10000</td>\n",
       "      <td>0.666667</td>\n",
       "      <td>0.658856</td>\n",
       "      <td>0.99</td>\n",
       "      <td>0.99</td>\n",
       "    </tr>\n",
       "    <tr>\n",
       "      <th>90</th>\n",
       "      <td>3</td>\n",
       "      <td>92</td>\n",
       "      <td>10000</td>\n",
       "      <td>0.666667</td>\n",
       "      <td>0.660473</td>\n",
       "      <td>0.99</td>\n",
       "      <td>0.99</td>\n",
       "    </tr>\n",
       "    <tr>\n",
       "      <th>91</th>\n",
       "      <td>3</td>\n",
       "      <td>93</td>\n",
       "      <td>10000</td>\n",
       "      <td>0.666667</td>\n",
       "      <td>0.659414</td>\n",
       "      <td>0.99</td>\n",
       "      <td>0.99</td>\n",
       "    </tr>\n",
       "    <tr>\n",
       "      <th>92</th>\n",
       "      <td>3</td>\n",
       "      <td>94</td>\n",
       "      <td>10000</td>\n",
       "      <td>0.666667</td>\n",
       "      <td>0.659994</td>\n",
       "      <td>0.99</td>\n",
       "      <td>0.99</td>\n",
       "    </tr>\n",
       "    <tr>\n",
       "      <th>93</th>\n",
       "      <td>3</td>\n",
       "      <td>95</td>\n",
       "      <td>10000</td>\n",
       "      <td>0.666667</td>\n",
       "      <td>0.660076</td>\n",
       "      <td>0.99</td>\n",
       "      <td>0.99</td>\n",
       "    </tr>\n",
       "    <tr>\n",
       "      <th>94</th>\n",
       "      <td>3</td>\n",
       "      <td>96</td>\n",
       "      <td>10000</td>\n",
       "      <td>0.666667</td>\n",
       "      <td>0.659927</td>\n",
       "      <td>0.99</td>\n",
       "      <td>0.99</td>\n",
       "    </tr>\n",
       "    <tr>\n",
       "      <th>95</th>\n",
       "      <td>3</td>\n",
       "      <td>97</td>\n",
       "      <td>10000</td>\n",
       "      <td>0.666667</td>\n",
       "      <td>0.659474</td>\n",
       "      <td>0.99</td>\n",
       "      <td>0.99</td>\n",
       "    </tr>\n",
       "    <tr>\n",
       "      <th>96</th>\n",
       "      <td>3</td>\n",
       "      <td>98</td>\n",
       "      <td>10000</td>\n",
       "      <td>0.666667</td>\n",
       "      <td>0.659176</td>\n",
       "      <td>0.99</td>\n",
       "      <td>0.99</td>\n",
       "    </tr>\n",
       "    <tr>\n",
       "      <th>97</th>\n",
       "      <td>3</td>\n",
       "      <td>99</td>\n",
       "      <td>10000</td>\n",
       "      <td>0.666667</td>\n",
       "      <td>0.660459</td>\n",
       "      <td>0.99</td>\n",
       "      <td>0.99</td>\n",
       "    </tr>\n",
       "    <tr>\n",
       "      <th>98</th>\n",
       "      <td>3</td>\n",
       "      <td>100</td>\n",
       "      <td>10000</td>\n",
       "      <td>0.666667</td>\n",
       "      <td>0.660833</td>\n",
       "      <td>0.99</td>\n",
       "      <td>0.99</td>\n",
       "    </tr>\n",
       "  </tbody>\n",
       "</table>\n",
       "</div>"
      ],
      "text/plain": [
       "    pop  tamanho_amostra  quantidade_amostras   var_pop  var_amostra  \\\n",
       "89    3               91                10000  0.666667     0.658856   \n",
       "90    3               92                10000  0.666667     0.660473   \n",
       "91    3               93                10000  0.666667     0.659414   \n",
       "92    3               94                10000  0.666667     0.659994   \n",
       "93    3               95                10000  0.666667     0.660076   \n",
       "94    3               96                10000  0.666667     0.659927   \n",
       "95    3               97                10000  0.666667     0.659474   \n",
       "96    3               98                10000  0.666667     0.659176   \n",
       "97    3               99                10000  0.666667     0.660459   \n",
       "98    3              100                10000  0.666667     0.660833   \n",
       "\n",
       "    var_amostra/var_pop  (n-1)/n  \n",
       "89                 0.99     0.99  \n",
       "90                 0.99     0.99  \n",
       "91                 0.99     0.99  \n",
       "92                 0.99     0.99  \n",
       "93                 0.99     0.99  \n",
       "94                 0.99     0.99  \n",
       "95                 0.99     0.99  \n",
       "96                 0.99     0.99  \n",
       "97                 0.99     0.99  \n",
       "98                 0.99     0.99  "
      ]
     },
     "execution_count": 14,
     "metadata": {},
     "output_type": "execute_result"
    }
   ],
   "source": [
    "df_dados.tail(10)"
   ]
  },
  {
   "cell_type": "markdown",
   "metadata": {},
   "source": [
    "- A correção aplicada é:\n",
    "$$s^{2} = \\frac{n-1}{n} \\sigma^{2} = \\frac{\\sum_{i=1}^{n} (x_i-\\bar{X})^{2}}{n-1} \\xrightarrow{estima} \\sigma^{2} = \\frac{\\sum_{i=1}^{N} (x_i-\\mu)^{2}}{N}$$\n",
    "\n",
    "<hr>"
   ]
  },
  {
   "cell_type": "markdown",
   "metadata": {},
   "source": [
    "# Aula 3 - Teorema Central do Limite - Captando a lei natural da aleatoridade"
   ]
  },
  {
   "cell_type": "markdown",
   "metadata": {},
   "source": [
    "- Vamos fazer uma simulação:\n",
    "    - Usando uma moeda não viciada;\n",
    "    - 0 = coroa;\n",
    "    - 1 = cara;"
   ]
  },
  {
   "cell_type": "code",
   "execution_count": 18,
   "metadata": {},
   "outputs": [],
   "source": [
    "lanca_moeda = [0,1]\n",
    "\n",
    "lanca_moeda = pd.Series(lanca_moeda)"
   ]
  },
  {
   "cell_type": "code",
   "execution_count": 19,
   "metadata": {},
   "outputs": [
    {
     "data": {
      "text/plain": [
       "0.5"
      ]
     },
     "execution_count": 19,
     "metadata": {},
     "output_type": "execute_result"
    }
   ],
   "source": [
    "lanca_moeda.mean()"
   ]
  },
  {
   "cell_type": "code",
   "execution_count": 20,
   "metadata": {},
   "outputs": [
    {
     "data": {
      "text/plain": [
       "0.7071067811865476"
      ]
     },
     "execution_count": 20,
     "metadata": {},
     "output_type": "execute_result"
    }
   ],
   "source": [
    "lanca_moeda.std(ddof=1)"
   ]
  },
  {
   "cell_type": "markdown",
   "metadata": {},
   "source": [
    "- Vamos fazer vários lançamentos:"
   ]
  },
  {
   "cell_type": "code",
   "execution_count": 21,
   "metadata": {},
   "outputs": [],
   "source": [
    "lancamentos = 1000\n",
    "\n",
    "lista_lancamentos = []\n",
    "lista_lancamentos_media = []\n",
    "lista_lancamentos_var = []\n",
    "lista_diff_cara_coroa = []\n",
    "\n",
    "for lancamento in range(1,lancamentos,1):\n",
    "    \n",
    "    lista_lancamentos.append(lanca_moeda.sample(n=1, replace=True).iat[0])\n",
    "    lista_lancamentos_media.append(np.mean(lista_lancamentos))\n",
    "    lista_lancamentos_var.append(np.var(lista_lancamentos))\n",
    "    \n",
    "    contagem = pd.value_counts(lista_lancamentos)\n",
    "    num_cara = contagem.get(1, 1)\n",
    "    num_coroa = contagem.get(0, 0)\n",
    "\n",
    "    lista_diff_cara_coroa.append(num_cara/(num_cara+num_coroa))"
   ]
  },
  {
   "cell_type": "code",
   "execution_count": 22,
   "metadata": {},
   "outputs": [
    {
     "data": {
      "text/plain": [
       "(-0.25, 1.5)"
      ]
     },
     "execution_count": 22,
     "metadata": {},
     "output_type": "execute_result"
    },
    {
     "data": {
      "image/png": "[encoded data removed]",
      "text/plain": [
       "<Figure size 864x504 with 1 Axes>"
      ]
     },
     "metadata": {
      "needs_background": "light"
     },
     "output_type": "display_data"
    }
   ],
   "source": [
    "fig, ax = plt.subplots(nrows=1, ncols=1, figsize=(12,7))\n",
    "\n",
    "ax.plot(list(range(1,lancamentos,1)), lista_diff_cara_coroa)\n",
    "ax.set_xlabel('Lançamentos')\n",
    "ax.set_ylabel('Proporção de Cara')\n",
    "ax.set_ylim(-0.25, 1.5)"
   ]
  },
  {
   "cell_type": "markdown",
   "metadata": {},
   "source": [
    "- Parece que a proporção converge para 50%;\n",
    "- Mas se fizermos isso mais vezes;"
   ]
  },
  {
   "cell_type": "markdown",
   "metadata": {},
   "source": [
    "- Realizando mais experimentos de lançamentos;"
   ]
  },
  {
   "cell_type": "code",
   "execution_count": 23,
   "metadata": {},
   "outputs": [],
   "source": [
    "experimentos = 10\n",
    "lista_experimentos = []\n",
    "\n",
    "for experimento in range(1, experimentos, 1):\n",
    "\n",
    "    lancamentos = 1000\n",
    "\n",
    "    lista_lancamentos = []\n",
    "    lista_lancamentos_media = []\n",
    "    lista_lancamentos_var = []\n",
    "    lista_diff_cara_coroa = []\n",
    "\n",
    "    for lancamento in range(1,lancamentos,1):\n",
    "\n",
    "        lista_lancamentos.append(lanca_moeda.sample(n=1, replace=True).iat[0])\n",
    "        lista_lancamentos_media.append(np.mean(lista_lancamentos))\n",
    "        lista_lancamentos_var.append(np.var(lista_lancamentos))\n",
    "\n",
    "        contagem = pd.value_counts(lista_lancamentos)\n",
    "        num_cara = contagem.get(1, 1)\n",
    "        num_coroa = contagem.get(0, 0)\n",
    "\n",
    "        lista_diff_cara_coroa.append(num_cara/(num_cara+num_coroa))\n",
    "    \n",
    "    lista_experimentos.append(lista_diff_cara_coroa)"
   ]
  },
  {
   "cell_type": "code",
   "execution_count": 25,
   "metadata": {},
   "outputs": [
    {
     "data": {
      "text/plain": [
       "(-0.25, 1.5)"
      ]
     },
     "execution_count": 25,
     "metadata": {},
     "output_type": "execute_result"
    },
    {
     "data": {
      "image/png": "[encoded data removed]",
      "text/plain": [
       "<Figure size 864x504 with 1 Axes>"
      ]
     },
     "metadata": {
      "needs_background": "light"
     },
     "output_type": "display_data"
    }
   ],
   "source": [
    "fig, ax = plt.subplots(nrows=1, ncols=1, figsize=(12,7))\n",
    "\n",
    "for experimento in lista_experimentos:\n",
    "    ax.plot(list(range(1,lancamentos,1)), experimento, c='gray')\n",
    "    \n",
    "ax.plot(list(range(1,lancamentos,1)), lista_diff_cara_coroa, c='yellow')\n",
    "    \n",
    "ax.set_xlabel('Lançamentos')\n",
    "ax.set_ylabel('Proporção de Cara')\n",
    "ax.set_ylim(-0.25, 1.5)"
   ]
  },
  {
   "cell_type": "markdown",
   "metadata": {},
   "source": [
    "- Em todos os experimentos que fazemos sempre converge para 50%;"
   ]
  },
  {
   "cell_type": "markdown",
   "metadata": {},
   "source": [
    "#### Essa é a lei das médias: a medida que n aumenta, o número médio de caras se aproxima mais e mais da média populaciopnal;\n",
    "\n",
    "- A média amostral $\\bar{x}$ (uma estatística) converge para a média populacional $\\mu$ (um parâmetro);"
   ]
  },
  {
   "cell_type": "markdown",
   "metadata": {},
   "source": [
    "- Vamos fazer um outro experimento:\n",
    "    - Vamos variar a quantidade de lançamentos e validar observar a média e o desvio;"
   ]
  },
  {
   "cell_type": "code",
   "execution_count": 73,
   "metadata": {},
   "outputs": [],
   "source": [
    "moeda = [0,1]\n",
    "\n",
    "moeda = pd.Series(moeda)"
   ]
  },
  {
   "cell_type": "code",
   "execution_count": 74,
   "metadata": {
    "scrolled": true
   },
   "outputs": [
    {
     "data": {
      "text/plain": [
       "0.5"
      ]
     },
     "execution_count": 74,
     "metadata": {},
     "output_type": "execute_result"
    }
   ],
   "source": [
    "moeda.mean()"
   ]
  },
  {
   "cell_type": "code",
   "execution_count": 77,
   "metadata": {},
   "outputs": [
    {
     "data": {
      "text/plain": [
       "0.5"
      ]
     },
     "execution_count": 77,
     "metadata": {},
     "output_type": "execute_result"
    }
   ],
   "source": [
    "moeda.std(ddof=0)"
   ]
  },
  {
   "cell_type": "markdown",
   "metadata": {},
   "source": [
    "- Vamos fazer vários lançamentos:"
   ]
  },
  {
   "cell_type": "code",
   "execution_count": 101,
   "metadata": {},
   "outputs": [],
   "source": [
    "num_lancamentos = [1, 2, 4, 9, 25, 50, 100]\n",
    "lista_experimentos = []\n",
    "\n",
    "num_amostras = 5000\n",
    "\n",
    "for lancamentos in num_lancamentos:\n",
    "    \n",
    "    # vamos repetir o lançamento das moedas abaixo em num_amostras de mesmo tamanho\n",
    "    lista_mean_amostras = []\n",
    "    lista_std_amostras = []\n",
    "    for n_amostra in range(num_amostras):\n",
    "        \n",
    "        # Abaixo é realizado o lançamento de moedas, para lance vezes\n",
    "        lista_lancamentos = [] \n",
    "        for lance in range(lancamentos):\n",
    "            lancei_moeda = moeda.sample(n=1, replace=True).iat[0]\n",
    "            lista_lancamentos.append(lancei_moeda)\n",
    "        lista_mean_amostras.append(np.mean(lista_lancamentos))\n",
    "\n",
    "    dict_amostra = {\"num_lancamentos\":[lancamentos for _ in lista_mean_amostras],\n",
    "                    \"media_amostra\":lista_mean_amostras}\n",
    "    \n",
    "    lista_experimentos.append(pd.DataFrame(dict_amostra))\n",
    "\n",
    "df_simula = pd.concat(lista_experimentos)\n",
    "df_simula.fillna(0, inplace=True)"
   ]
  },
  {
   "cell_type": "code",
   "execution_count": 102,
   "metadata": {
    "scrolled": false
   },
   "outputs": [
    {
     "data": {
      "image/png": "[encoded data removed]",
      "text/plain": [
       "<Figure size 864x360 with 1 Axes>"
      ]
     },
     "metadata": {
      "needs_background": "light"
     },
     "output_type": "display_data"
    },
    {
     "data": {
      "image/png": "[encoded data removed]",
      "text/plain": [
       "<Figure size 864x360 with 1 Axes>"
      ]
     },
     "metadata": {
      "needs_background": "light"
     },
     "output_type": "display_data"
    },
    {
     "data": {
      "image/png": "[encoded data removed]",
      "text/plain": [
       "<Figure size 864x360 with 1 Axes>"
      ]
     },
     "metadata": {
      "needs_background": "light"
     },
     "output_type": "display_data"
    },
    {
     "data": {
      "image/png": "[encoded data removed]",
      "text/plain": [
       "<Figure size 864x360 with 1 Axes>"
      ]
     },
     "metadata": {
      "needs_background": "light"
     },
     "output_type": "display_data"
    },
    {
     "data": {
      "image/png": "[encoded data removed]",
      "text/plain": [
       "<Figure size 864x360 with 1 Axes>"
      ]
     },
     "metadata": {
      "needs_background": "light"
     },
     "output_type": "display_data"
    },
    {
     "data": {
      "image/png": "[encoded data removed]",
      "text/plain": [
       "<Figure size 864x360 with 1 Axes>"
      ]
     },
     "metadata": {
      "needs_background": "light"
     },
     "output_type": "display_data"
    },
    {
     "data": {
      "image/png": "[encoded data removed]",
      "text/plain": [
       "<Figure size 864x360 with 1 Axes>"
      ]
     },
     "metadata": {
      "needs_background": "light"
     },
     "output_type": "display_data"
    }
   ],
   "source": [
    "for i, lancamentos in enumerate(num_lancamentos):\n",
    "    \n",
    "    fig, ax = plt.subplots(nrows=1, ncols=1, figsize=(12,5))\n",
    "    \n",
    "    filtro = (df_simula.num_lancamentos==lancamentos)\n",
    "    sb.histplot(data=df_simula.loc[filtro], x=\"media_amostra\", ax=ax)\n",
    "    \n",
    "    titulo = f\"\"\"Lancamentos: {str(lancamentos)}, média das médias: {round(df_simula.loc[filtro].media_amostra.mean(),2)}\n",
    "                desvio: {round(df_simula.loc[filtro].media_amostra.std(),2)}\"\"\"\n",
    "    \n",
    "    \n",
    "    ax.set_title(titulo)\n",
    "    ax.set_xlabel('Distribuição das Médias de Amostras')\n",
    "    ax.set_ylabel('Frequência da Média da Amostra')\n",
    "    ax.set_xlim(-0.05, 1.05)"
   ]
  },
  {
   "cell_type": "markdown",
   "metadata": {},
   "source": [
    "- Conforme aumentamos o tamanho das amostras, a média se estabiliza, em outras palavras, a média das amostras $\\bar{x}$ converge para a média populaciona $\\mu$;\n",
    "- Quanto maior é o tamanho da amostra, menor é a média dos desvios das amostras e a curva se aproxima de um formato gaussiano, isto é, mais normal fica a distribuição;"
   ]
  },
  {
   "cell_type": "markdown",
   "metadata": {},
   "source": [
    "- Vamos entender melhor o desvio, vamos ver como ele vai variando conforme variamos o tamanho da amostra:\n",
    "    - Vamos variar o tamanho da amostra de 1 até 500;"
   ]
  },
  {
   "cell_type": "code",
   "execution_count": 106,
   "metadata": {},
   "outputs": [],
   "source": [
    "num_lancamentos = [1,2,4,8,16,32,64,128,256,512]\n",
    "lista_experimentos = []\n",
    "\n",
    "num_amostras = 100\n",
    "\n",
    "for lancamentos in num_lancamentos:\n",
    "    \n",
    "    # vamos repetir o lançamento das moedas abaixo em num_amostras de mesmo tamanho\n",
    "    lista_mean_amostras = []\n",
    "    lista_std_amostras = []\n",
    "    for n_amostra in range(num_amostras):\n",
    "        \n",
    "        # Abaixo é realizado o lançamento de moedas, para lance vezes\n",
    "        lista_lancamentos = [] \n",
    "        for lance in range(lancamentos):\n",
    "            lancei_moeda = moeda.sample(n=1, replace=True).iat[0]\n",
    "            lista_lancamentos.append(lancei_moeda)\n",
    "        lista_mean_amostras.append(np.mean(lista_lancamentos))\n",
    "\n",
    "    dict_amostra = {\"num_lancamentos\":lancamentos,\n",
    "                    \"media_medias_amostras\":np.mean(lista_mean_amostras),\n",
    "                    \"desvio_medias_amostras\":np.std(lista_mean_amostras, ddof=1)}\n",
    "    \n",
    "    lista_experimentos.append(dict_amostra)\n",
    "\n",
    "df_simula = pd.DataFrame(lista_experimentos)\n",
    "df_simula.fillna(0, inplace=True)"
   ]
  },
  {
   "cell_type": "code",
   "execution_count": 107,
   "metadata": {},
   "outputs": [
    {
     "data": {
      "text/html": [
       "<div>\n",
       "<style scoped>\n",
       "    .dataframe tbody tr th:only-of-type {\n",
       "        vertical-align: middle;\n",
       "    }\n",
       "\n",
       "    .dataframe tbody tr th {\n",
       "        vertical-align: top;\n",
       "    }\n",
       "\n",
       "    .dataframe thead th {\n",
       "        text-align: right;\n",
       "    }\n",
       "</style>\n",
       "<table border=\"1\" class=\"dataframe\">\n",
       "  <thead>\n",
       "    <tr style=\"text-align: right;\">\n",
       "      <th></th>\n",
       "      <th>num_lancamentos</th>\n",
       "      <th>media_medias_amostras</th>\n",
       "      <th>desvio_medias_amostras</th>\n",
       "    </tr>\n",
       "  </thead>\n",
       "  <tbody>\n",
       "    <tr>\n",
       "      <th>0</th>\n",
       "      <td>1</td>\n",
       "      <td>0.470000</td>\n",
       "      <td>0.501614</td>\n",
       "    </tr>\n",
       "    <tr>\n",
       "      <th>1</th>\n",
       "      <td>2</td>\n",
       "      <td>0.455000</td>\n",
       "      <td>0.348844</td>\n",
       "    </tr>\n",
       "    <tr>\n",
       "      <th>2</th>\n",
       "      <td>4</td>\n",
       "      <td>0.482500</td>\n",
       "      <td>0.259309</td>\n",
       "    </tr>\n",
       "    <tr>\n",
       "      <th>3</th>\n",
       "      <td>8</td>\n",
       "      <td>0.510000</td>\n",
       "      <td>0.171041</td>\n",
       "    </tr>\n",
       "    <tr>\n",
       "      <th>4</th>\n",
       "      <td>16</td>\n",
       "      <td>0.489375</td>\n",
       "      <td>0.118204</td>\n",
       "    </tr>\n",
       "  </tbody>\n",
       "</table>\n",
       "</div>"
      ],
      "text/plain": [
       "   num_lancamentos  media_medias_amostras  desvio_medias_amostras\n",
       "0                1               0.470000                0.501614\n",
       "1                2               0.455000                0.348844\n",
       "2                4               0.482500                0.259309\n",
       "3                8               0.510000                0.171041\n",
       "4               16               0.489375                0.118204"
      ]
     },
     "execution_count": 107,
     "metadata": {},
     "output_type": "execute_result"
    }
   ],
   "source": [
    "df_simula.head()"
   ]
  },
  {
   "cell_type": "code",
   "execution_count": 122,
   "metadata": {},
   "outputs": [
    {
     "data": {
      "text/plain": [
       "(-0.05, 1.05)"
      ]
     },
     "execution_count": 122,
     "metadata": {},
     "output_type": "execute_result"
    },
    {
     "data": {
      "image/png": "[encoded data removed]",
      "text/plain": [
       "<Figure size 1080x360 with 2 Axes>"
      ]
     },
     "metadata": {
      "needs_background": "light"
     },
     "output_type": "display_data"
    }
   ],
   "source": [
    "fig, ax = plt.subplots(nrows=1, ncols=2, figsize=(15,5))\n",
    "\n",
    "# Comportamento da Média\n",
    "ax[0].plot(df_simula.num_lancamentos.tolist(),\n",
    "        df_simula.media_medias_amostras.tolist())\n",
    "\n",
    "ax[0].set_title(\"Média das Distribuições Amostrais da Média\")\n",
    "\n",
    "ax[0].set_xlabel(\"Número de Amostras\")\n",
    "ax[0].set_ylabel(\"Média das Médias das Amostras\")\n",
    "\n",
    "ax[0].set_xlim(-10, np.max(num_lancamentos)*1.05)\n",
    "ax[0].set_ylim(-0.05, 1.05)\n",
    "\n",
    "# Comportamento do Desvio\n",
    "ax[1].plot(df_simula.num_lancamentos.tolist(),\n",
    "        df_simula.desvio_medias_amostras.tolist())\n",
    "\n",
    "ax[1].set_title(\"Média dos Desvios das Distribuições Amostrais\")\n",
    "\n",
    "ax[1].set_xlabel(\"Número de Amostras\")\n",
    "ax[1].set_ylabel(\"Média das Médias das Amostras\")\n",
    "\n",
    "ax[1].set_xlim(-10, np.max(num_lancamentos)*1.05)\n",
    "ax[1].set_ylim(-0.05, 1.05)"
   ]
  },
  {
   "cell_type": "markdown",
   "metadata": {},
   "source": [
    "- O desvio ele vai caindo e até se estabilizar. A relação de queda do desvio das amostras é dada pela seguinte expressão:$$\\frac{\\sigma}{\\sqrt{n}}$$"
   ]
  },
  {
   "cell_type": "markdown",
   "metadata": {},
   "source": [
    "#### Teorema central do limite: com o aumento do tamanho da amostra, a distribuição das médias segue uma curva normal;"
   ]
  },
  {
   "cell_type": "markdown",
   "metadata": {},
   "source": [
    "$$\\mu\\bar{x}\\cong\\mu$$"
   ]
  },
  {
   "cell_type": "markdown",
   "metadata": {},
   "source": [
    "$$\\sigma\\bar{x}\\cong\\frac{\\sigma}{\\sqrt{n}}$$ Trata-se do erro padrão ou desvio padrão da média."
   ]
  },
  {
   "cell_type": "markdown",
   "metadata": {},
   "source": [
    "- Central: se refere a um teorema funcamental;\n",
    "- Limite: se refere a emergência da normalidade quando vamos para o limite;"
   ]
  },
  {
   "cell_type": "markdown",
   "metadata": {},
   "source": [
    "- O nosso:\n",
    "$$\\bar{x}\\cong\\mu$$"
   ]
  },
  {
   "cell_type": "markdown",
   "metadata": {},
   "source": [
    "$$\\sigma_{\\bar{x}}=\\frac{\\sigma}{\\sqrt{N}}\\cong\\frac{S}{\\sqrt{n}}$$"
   ]
  },
  {
   "cell_type": "markdown",
   "metadata": {},
   "source": [
    "-----------"
   ]
  },
  {
   "cell_type": "markdown",
   "metadata": {},
   "source": [
    "- Beleza, segue uma distribuição gaussiana, porém o que é uma distribuição gaussiana?\n",
    "    - Propriedades;\n",
    "    - Aonde surgiu;"
   ]
  },
  {
   "cell_type": "markdown",
   "metadata": {},
   "source": [
    "- Como trabalhar com as gaussianas?\n",
    "    - Transfroamção;"
   ]
  },
  {
   "cell_type": "markdown",
   "metadata": {},
   "source": [
    "-----------"
   ]
  },
  {
   "cell_type": "markdown",
   "metadata": {},
   "source": [
    "# Aula 4 - Intervalo de Confiança"
   ]
  },
  {
   "cell_type": "markdown",
   "metadata": {},
   "source": [
    "- Estimativa da estatística e da incerteza associada a essa estatística;\n",
    "- Veremos um intervalo de valores que cobrem a média populacional com certa probabilidade;\n",
    "- Dar exemplos:\n",
    "    - Não queremos intervalos muito grandes e nem muito curtos (pois será que teremos precisão)?"
   ]
  },
  {
   "cell_type": "markdown",
   "metadata": {},
   "source": [
    "- Para criar um intervalo de confiança, vamos usar o conhecimento aprendido nas aulas passadas:\n",
    "<hr>\n",
    "$$\\bar{x}= \\frac{\\sum_{i=1}^{n} x_i}{n} \\xrightarrow{estima} \\mu = \\frac{\\sum_{i=1}^{N} x_i}{N}$$\n",
    "<hr>\n",
    "$$s^{2} = \\frac{\\sum_{i=1}^{n} (x_i-\\bar{X})^{2}}{n-1} \\xrightarrow{estima} \\sigma^{2} = \\frac{\\sum_{i=1}^{N} (x_i-\\mu)^{2}}{N}$$\n",
    "<hr>\n",
    "$$\\sigma_{\\bar{x}}=\\frac{\\sigma}{\\sqrt{N}}\\cong\\frac{S}{\\sqrt{n}}$$\n",
    "<hr>"
   ]
  },
  {
   "cell_type": "markdown",
   "metadata": {},
   "source": [
    "- Vamos fazer uma simulação:\n",
    "    - Imagine que você quer saber a média das notas do ENEM;\n",
    "    - Porém, você só tem em mãos uma distribuição:\n",
    "        - Um tamanho de amostra de $n=100$;\n",
    "- Você não conhece a sua população:\n",
    "    - Porém, para efeito de simulação, sabemos que a $\\mu=700$ e $\\sigma=10$;\n",
    "- Vamos gerar a distribuição da população e essa distribuição que temos em mãos;\n"
   ]
  },
  {
   "cell_type": "markdown",
   "metadata": {},
   "source": [
    "##### Nossa população:"
   ]
  },
  {
   "cell_type": "code",
   "execution_count": 349,
   "metadata": {},
   "outputs": [],
   "source": [
    "media_pop = 700\n",
    "desvio_pop = 10\n",
    "tamanho_populacao = 1000000\n",
    "\n",
    "# gerando a curva normal\n",
    "dist_normal_pop = sp.stats.norm(loc=media_pop, scale=desvio_pop)"
   ]
  },
  {
   "cell_type": "code",
   "execution_count": 350,
   "metadata": {},
   "outputs": [],
   "source": [
    "# gerando elementos randômicos da curva normal\n",
    "populacao = dist_normal_pop.rvs(size=tamanho_populacao, random_state=32)"
   ]
  },
  {
   "cell_type": "code",
   "execution_count": 351,
   "metadata": {
    "scrolled": true
   },
   "outputs": [
    {
     "data": {
      "text/plain": [
       "array([696.51105549, 709.83703433, 705.80922831, 700.70284441,\n",
       "       707.77532676, 705.81958745, 714.71790527, 716.63181009,\n",
       "       697.38822879, 693.11323187])"
      ]
     },
     "execution_count": 351,
     "metadata": {},
     "output_type": "execute_result"
    }
   ],
   "source": [
    "populacao[0:10]"
   ]
  },
  {
   "cell_type": "code",
   "execution_count": 352,
   "metadata": {
    "scrolled": true
   },
   "outputs": [
    {
     "data": {
      "text/plain": [
       "700.0084393914804"
      ]
     },
     "execution_count": 352,
     "metadata": {},
     "output_type": "execute_result"
    }
   ],
   "source": [
    "populacao.mean()"
   ]
  },
  {
   "cell_type": "code",
   "execution_count": 353,
   "metadata": {
    "scrolled": true
   },
   "outputs": [
    {
     "data": {
      "text/plain": [
       "9.999492199168749"
      ]
     },
     "execution_count": 353,
     "metadata": {},
     "output_type": "execute_result"
    }
   ],
   "source": [
    "populacao.std(ddof=1)"
   ]
  },
  {
   "cell_type": "markdown",
   "metadata": {},
   "source": [
    "- Vamos desenhar essa distribuição:"
   ]
  },
  {
   "cell_type": "code",
   "execution_count": 354,
   "metadata": {
    "scrolled": false
   },
   "outputs": [
    {
     "data": {
      "image/png": "[encoded data removed]",
      "text/plain": [
       "<Figure size 648x648 with 1 Axes>"
      ]
     },
     "metadata": {
      "needs_background": "light"
     },
     "output_type": "display_data"
    }
   ],
   "source": [
    "ax = sb.displot(x=populacao, kind='hist', height=9)"
   ]
  },
  {
   "cell_type": "markdown",
   "metadata": {},
   "source": [
    "##### A amostra que temos em mãos:"
   ]
  },
  {
   "cell_type": "code",
   "execution_count": 385,
   "metadata": {},
   "outputs": [],
   "source": [
    "media_amostra = 705\n",
    "tamanho_amostra = 100\n",
    "desvio_amostra = 100/np.sqrt(tamanho_amostra)\n",
    "\n",
    "dist_normal_amostra = sp.stats.norm(loc=media_amostra, scale=desvio_amostra)\n",
    "amostra_populacao = dist_normal_amostra.rvs(size=tamanho_amostra, random_state=32)\n",
    "amostra_populacao = pd.Series(amostra_populacao)"
   ]
  },
  {
   "cell_type": "code",
   "execution_count": 386,
   "metadata": {
    "scrolled": true
   },
   "outputs": [
    {
     "data": {
      "text/plain": [
       "array([701.51105549, 714.83703433, 710.80922831, 705.70284441,\n",
       "       712.77532676, 710.81958745, 719.71790527, 721.63181009,\n",
       "       702.38822879, 698.11323187])"
      ]
     },
     "execution_count": 386,
     "metadata": {},
     "output_type": "execute_result"
    }
   ],
   "source": [
    "amostra_populacao[0:10].values"
   ]
  },
  {
   "cell_type": "code",
   "execution_count": 387,
   "metadata": {
    "scrolled": true
   },
   "outputs": [
    {
     "data": {
      "text/plain": [
       "705.6368595578466"
      ]
     },
     "execution_count": 387,
     "metadata": {},
     "output_type": "execute_result"
    }
   ],
   "source": [
    "amostra_populacao.mean()"
   ]
  },
  {
   "cell_type": "code",
   "execution_count": 388,
   "metadata": {
    "scrolled": true
   },
   "outputs": [
    {
     "data": {
      "text/plain": [
       "10.33760567576605"
      ]
     },
     "execution_count": 388,
     "metadata": {},
     "output_type": "execute_result"
    }
   ],
   "source": [
    "amostra_populacao.std(ddof=1)"
   ]
  },
  {
   "cell_type": "markdown",
   "metadata": {},
   "source": [
    "- Vamos desenhar essa distribuição:"
   ]
  },
  {
   "cell_type": "code",
   "execution_count": 389,
   "metadata": {
    "scrolled": false
   },
   "outputs": [
    {
     "data": {
      "image/png": "[encoded data removed]",
      "text/plain": [
       "<Figure size 648x648 with 1 Axes>"
      ]
     },
     "metadata": {
      "needs_background": "light"
     },
     "output_type": "display_data"
    }
   ],
   "source": [
    "ax = sb.displot(x=amostra_populacao, kind='hist', height=9)"
   ]
  },
  {
   "cell_type": "markdown",
   "metadata": {},
   "source": [
    "##### Agora queremos criar um intervalo de confiança sobre a nossa média de amostra que contenha a média da nossa população:"
   ]
  },
  {
   "cell_type": "markdown",
   "metadata": {},
   "source": [
    "- Agora vamos fazer:\n",
    "    - 100 amostras com reposição sob a amostra que temos em mãos;\n",
    "    - Assumindo um desvio padrão pra cima e pra baixo como intervalo de confiança;"
   ]
  },
  {
   "cell_type": "code",
   "execution_count": 392,
   "metadata": {},
   "outputs": [
    {
     "data": {
      "text/html": [
       "<div>\n",
       "<style scoped>\n",
       "    .dataframe tbody tr th:only-of-type {\n",
       "        vertical-align: middle;\n",
       "    }\n",
       "\n",
       "    .dataframe tbody tr th {\n",
       "        vertical-align: top;\n",
       "    }\n",
       "\n",
       "    .dataframe thead th {\n",
       "        text-align: right;\n",
       "    }\n",
       "</style>\n",
       "<table border=\"1\" class=\"dataframe\">\n",
       "  <thead>\n",
       "    <tr style=\"text-align: right;\">\n",
       "      <th></th>\n",
       "      <th>n_amostra</th>\n",
       "      <th>media_amostra</th>\n",
       "      <th>limite_superior</th>\n",
       "      <th>limite_inferior</th>\n",
       "    </tr>\n",
       "  </thead>\n",
       "  <tbody>\n",
       "    <tr>\n",
       "      <th>0</th>\n",
       "      <td>1</td>\n",
       "      <td>703.926892</td>\n",
       "      <td>714.165129</td>\n",
       "      <td>693.688655</td>\n",
       "    </tr>\n",
       "    <tr>\n",
       "      <th>1</th>\n",
       "      <td>2</td>\n",
       "      <td>705.532132</td>\n",
       "      <td>716.511269</td>\n",
       "      <td>694.552996</td>\n",
       "    </tr>\n",
       "    <tr>\n",
       "      <th>2</th>\n",
       "      <td>3</td>\n",
       "      <td>704.353047</td>\n",
       "      <td>714.848366</td>\n",
       "      <td>693.857728</td>\n",
       "    </tr>\n",
       "    <tr>\n",
       "      <th>3</th>\n",
       "      <td>4</td>\n",
       "      <td>704.095651</td>\n",
       "      <td>713.476247</td>\n",
       "      <td>694.715056</td>\n",
       "    </tr>\n",
       "    <tr>\n",
       "      <th>4</th>\n",
       "      <td>5</td>\n",
       "      <td>706.305172</td>\n",
       "      <td>716.764699</td>\n",
       "      <td>695.845645</td>\n",
       "    </tr>\n",
       "  </tbody>\n",
       "</table>\n",
       "</div>"
      ],
      "text/plain": [
       "   n_amostra  media_amostra  limite_superior  limite_inferior\n",
       "0          1     703.926892       714.165129       693.688655\n",
       "1          2     705.532132       716.511269       694.552996\n",
       "2          3     704.353047       714.848366       693.857728\n",
       "3          4     704.095651       713.476247       694.715056\n",
       "4          5     706.305172       716.764699       695.845645"
      ]
     },
     "execution_count": 392,
     "metadata": {},
     "output_type": "execute_result"
    }
   ],
   "source": [
    "n_amostras = 100\n",
    "\n",
    "lista_experimento = []\n",
    "for n_amostra in range(1, n_amostras+1, 1):\n",
    "    reamostra = amostra_populacao.sample(n=tamanho_amostra, replace=True)\n",
    "    \n",
    "    dict_experimento = {\"n_amostra\":n_amostra,\n",
    "                        \"media_amostra\":reamostra.mean(),\n",
    "                        \"limite_superior\":reamostra.mean()+reamostra.std(ddof=1),\n",
    "                        \"limite_inferior\":reamostra.mean()-reamostra.std(ddof=1)}\n",
    "    lista_experimento.append(dict_experimento)\n",
    "    \n",
    "df_experimentos = pd.DataFrame(lista_experimento)\n",
    "\n",
    "df_experimentos.head()"
   ]
  },
  {
   "cell_type": "code",
   "execution_count": 393,
   "metadata": {},
   "outputs": [
    {
     "data": {
      "text/plain": [
       "(690.0, 730.0)"
      ]
     },
     "execution_count": 393,
     "metadata": {},
     "output_type": "execute_result"
    },
    {
     "data": {
      "image/png": "[encoded data removed]",
      "text/plain": [
       "<Figure size 1080x360 with 1 Axes>"
      ]
     },
     "metadata": {
      "needs_background": "light"
     },
     "output_type": "display_data"
    }
   ],
   "source": [
    "fig, ax = plt.subplots(nrows=1, ncols=1, figsize=(15,5))\n",
    "\n",
    "# média amostral\n",
    "ax.hlines(y=amostra_populacao.mean(), xmin=-1, xmax=n_amostras*1.1, linewidth=0.5, color='r')\n",
    "\n",
    "# média populacional\n",
    "ax.hlines(y=populacao.mean(), xmin=-1, xmax=n_amostras*1.1, linewidth=0.5, color='g')\n",
    "\n",
    "for n_amostra in range(1, n_amostras, 1):\n",
    "    \n",
    "    df_experimento = df_experimentos.loc[(df_experimentos.n_amostra==n_amostra)]\n",
    "    \n",
    "    ax.vlines(x=n_amostra,\n",
    "              ymin=df_experimento.limite_inferior.iat[0],\n",
    "              ymax=df_experimento.limite_superior.iat[0])\n",
    "    \n",
    "    ax.scatter(n_amostra,\n",
    "               df_experimento.media_amostra.iat[0], c='blue')\n",
    "    \n",
    "ax.set_ylim(690,730)"
   ]
  },
  {
   "cell_type": "markdown",
   "metadata": {},
   "source": [
    "#### Regra geral para intervalos de confiança, quando $\\sigma$ é conhecido: $$IC_{p}=\\bar{x}\\pm z \\frac{\\sigma}{\\sqrt{n}}$$\n",
    "\n",
    "Em que:\n",
    "- $p$ é a porcentagem desejada de intervalos que contenham $\\mu$;\n",
    "- $z$ é o valor de $z$ da distribuição da curva normal padrão tal que $P(-z< X < z)=p$;"
   ]
  },
  {
   "cell_type": "markdown",
   "metadata": {},
   "source": [
    "##### Passos:\n",
    "- 1) Ter sua amostra e ter $\\sigma$ da população;\n",
    "- 2) Calcular o erro padrão, $\\sigma_{\\bar{x}}=\\frac{\\sigma}{\\sqrt{N}}$;\n",
    "- 3) Calcula a melhor estimativa da média populacional que é a média amostral: $\\bar{x}= \\frac{\\sum_{i=1}^{n} x_i}{n} \\xrightarrow{estima} \\mu = \\frac{\\sum_{i=1}^{N} x_i}{N}$;\n",
    "- 4) Da curva normal, obtenha os valores de $z$ que delimitam a área correspondente ao nível de confiança desejado ($0.95$):\n",
    "- 5) Descreve o intervalo de confiança: $IC_{p}=\\bar{x}\\pm z \\frac{\\sigma}{\\sqrt{n}}$;"
   ]
  },
  {
   "cell_type": "markdown",
   "metadata": {},
   "source": [
    "##### Acima está os passos quando sabemos a variância, e quando não sabemos?\n",
    "- Se $\\sigma$ for desconhecido e $n$ for grande:\n",
    "    - Podemos usar uma estimativa para $\\sigma$ via amostra, $s$ em $s^{2} = \\frac{\\sum_{i=1}^{n} (x_i-\\bar{X})^{2}}{n-1} \\xrightarrow{estima} \\sigma^{2} = \\frac{\\sum_{i=1}^{N} (x_i-\\mu)^{2}}{N}$;\n",
    "    - Continuamos usando a aproximação normal, z-score da tabela gaussiana;\n",
    "- E se $n$ for pequeno? $$IC_{p}=\\bar{x}\\pm t_{p,gl=(n-1)} \\frac{\\sigma}{\\sqrt{n}}$$\n",
    "    - Quando $\\sigma$ é desconhecido e $n$ é pequeno, nós usamos a distribuição $t$;\n",
    "    - A distribuição $t$ se aproxima muito da normal, só que tem uma maior densidade de probabilidade nas caldas;\n",
    "    - Com n menor do que 30, você deve usar a distribuição t;\n",
    "        - https://docs.scipy.org/doc/scipy/reference/generated/scipy.stats.t.html#scipy.stats.t\n",
    "    - Use sempre a t, independente do tamanho da amostra;\n",
    "    - Passos:\n",
    "        - 1) Computar o erro padrão da $\\sigma_{\\bar{x}}=\\frac{\\sigma}{\\sqrt{N}}\\cong\\frac{S}{\\sqrt{n}}$;\n",
    "        - 2) Calcular o valor da distribuição t para o nível de confiança necessário;\n",
    "            - Ex: $t_{p=0.95,gl=(n-1)}=?$"
   ]
  },
  {
   "cell_type": "code",
   "execution_count": 409,
   "metadata": {},
   "outputs": [
    {
     "data": {
      "text/plain": [
       "<matplotlib.legend.Legend at 0x1b161a1f580>"
      ]
     },
     "execution_count": 409,
     "metadata": {},
     "output_type": "execute_result"
    },
    {
     "data": {
      "image/png": "[encoded data removed]",
      "text/plain": [
       "<Figure size 1080x360 with 1 Axes>"
      ]
     },
     "metadata": {
      "needs_background": "light"
     },
     "output_type": "display_data"
    }
   ],
   "source": [
    "fig, ax = plt.subplots(nrows=1, ncols=1, figsize=(15,5))\n",
    "\n",
    "\n",
    "\n",
    "graus_liberdade = [1,2,4,8,16,32,64,128]\n",
    "graus_lib_cores = ['gray','magenta','g','y','b','black','orange','purple']\n",
    "\n",
    "for i, grau_liberdade in enumerate(graus_liberdade):\n",
    "    \n",
    "    distribuicao_t = sp.stats.t(df=grau_liberdade,loc=0, scale=1)\n",
    "    \n",
    "    x = np.linspace(distribuicao_t.ppf(0.01), distribuicao_t.ppf(0.99))\n",
    "\n",
    "    ax.plot(x, distribuicao_t.pdf(x),\n",
    "            c=graus_lib_cores[i],\n",
    "            alpha=0.6,\n",
    "            label=f'T:{str(grau_liberdade)}')\n",
    "\n",
    "distribuicao_normal = sp.stats.norm(loc=0, scale=1)\n",
    "x = np.linspace(distribuicao_normal.ppf(0.01), distribuicao_normal.ppf(0.99))\n",
    "ax.plot(x, distribuicao_normal.pdf(x),\n",
    "        c='r',\n",
    "        alpha=0.6,\n",
    "        label=f'Normal')\n",
    "\n",
    "ax.set_xlim(-10,10)\n",
    "ax.set_ylim(0,0.45)\n",
    "ax.legend(loc='best', frameon=False)"
   ]
  },
  {
   "cell_type": "markdown",
   "metadata": {},
   "source": [
    "#### Interpretando intervalos de confiança:\n",
    "- Se você repetir este experimento muitas vezxes, repetindo também o procedimento de cálculo para obter o intervalo de confiança 95%, espera-se que 95% dos intervalos irão cobrir a \"verdadeira\" média $\\mu$ da população;\n",
    "- Intervalos de confiança são construídos para conterem $\\mu$ em uma fração dada de repetições;\n",
    "    - Não significa que nós sabemos aonde está o $\\mu$;"
   ]
  },
  {
   "cell_type": "markdown",
   "metadata": {},
   "source": [
    "#### Podemos fazer todo o processo acima, baseada em teoria, usando somente a técnica de amostragem bootstrap;\n",
    "\n",
    "- Passos:\n",
    "    - 1) Reamostra os dados observados com reposição;\n",
    "    - 2) Calcula a estatística de interesse;\n",
    "    - 3) Repete muitas vezes (n>=10000);\n",
    "    - 4) Computa os percentis do início e fim do intervalo;\n",
    "    \n",
    "- É uma chave mestra que funciona para estimar qualquer estatística (com ou sem viés) e para qualquer tipo de n;"
   ]
  },
  {
   "cell_type": "markdown",
   "metadata": {},
   "source": [
    "# Aula 5 - Teste de Hipótese"
   ]
  },
  {
   "cell_type": "markdown",
   "metadata": {},
   "source": [
    "- Se tivermos uma população, se extrairmos uma amostra de tamanho $n$, média $\\bar{x}$ e desvio $s$, sabemos que esta amostra vai seguir:\n",
    "\n",
    "$$\\bar{x}= \\frac{\\sum_{i=1}^{n} x_i}{n} \\xrightarrow{estima} \\mu = \\frac{\\sum_{i=1}^{N} x_i}{N}$$\n",
    "<hr>\n",
    "$$s^{2} = \\frac{\\sum_{i=1}^{n} (x_i-\\bar{X})^{2}}{n-1} \\xrightarrow{estima} \\sigma^{2} = \\frac{\\sum_{i=1}^{N} (x_i-\\mu)^{2}}{N}$$\n",
    "<hr>\n",
    "$$\\sigma_{\\bar{x}}=\\frac{\\sigma}{\\sqrt{N}}\\cong\\frac{S}{\\sqrt{n}}$$\n",
    "<hr>"
   ]
  },
  {
   "cell_type": "markdown",
   "metadata": {},
   "source": [
    "- Podemos usar a distribuição das médias amostrais para estimar a probabilidade da média estar em alguma região;"
   ]
  },
  {
   "cell_type": "markdown",
   "metadata": {},
   "source": [
    "- Queremos distinguir quando um resultado é por acaso/aleatoriedade ou quando um resultado não é por acaso/aleatoriedade, que de fato existe algum comportamento fora da aleatoriedade;"
   ]
  },
  {
   "cell_type": "markdown",
   "metadata": {},
   "source": [
    "- Precisamos definir um limiar, aonde dizemos que é por acaso e aonde dizemos que é por algum efeito diferente da aleatoriedade;"
   ]
  },
  {
   "cell_type": "markdown",
   "metadata": {},
   "source": [
    "- Então queremos testar quando um resultado é por o mero acaso:\n",
    "    - Hipótese nula;\n",
    "- Ou quando o resultado não é por mero acaso e o resultado parece muito incomum para ser por mero acaso:\n",
    "    - Hipótese alternativa;"
   ]
  },
  {
   "cell_type": "markdown",
   "metadata": {},
   "source": [
    "- Situação:\n",
    "    - Notas do ENEM seguem distribuição normal com $\\mu=600$ e $\\sigma=100$;\n",
    "    - Uma empresa afirma que seu curso aumenta as notas no ENEM, pois os 100 alunos do curso tiveram média $\\bar{x}=618$;\n",
    "    - Vamos testar esta afirmação?\n",
    "- Hipótese nula: mero acaso\n",
    "    - As médias do ENEM de quem faz e não faz curso são iguais: $\\mu = \\bar{x}$;\n",
    "- Hipótese alternativa:\n",
    "    - As médias do ENEM de quem faz e não faz curso são diferentes: $\\mu \\neq \\bar{x}$ (bicaudal) ou de que $\\mu \\leq \\bar{x}$ (unicaudal);"
   ]
  },
  {
   "cell_type": "markdown",
   "metadata": {},
   "source": [
    "#### Teste de Hipótese:\n",
    "\n",
    "- Passo 1: estruturar a hipótese nula ou $H_{0}$;\n",
    "- Passo 2: estruturar a hipótese alternativa ou $H_{a}$;\n",
    "    - Pode ser \"unicaudal\" ou \"direcional\";\n",
    "    - Pode ser \"bicaudal\" ou \"não-direcional\";\n",
    "- Passo 3: estruturar a distribuição caso $H_{0}$;\n",
    "- Passo 3.1: estruturar a distribuição caso $H_{a}$, caso seja possível;\n",
    "- Passo 4: identificar regiões em que \"aceita\" ou \"rejeita\" $H_{0}$;\n",
    "    - Usamos o nível de significância ($0.05$) para isso alfa $\\alpha$ do seu teste;\n",
    "    - Quando usamos um alfa estamos assumindo que temos um erro, o erro tipo 1, taxa de falso positivo;\n",
    "        - Trata-se do erro de rejeitarmos a hipótese nula quando ela é verdadeira;\n",
    "        - Se a hipótese nula for verdadeira, e replicarmos este experimento múltiplas vezes, experamos resultados na região de rejeição em 5% \"alfa\" dos casos;\n",
    "- Passo 5: conduzir o \"teste de significância da hipótese nula\";\n",
    "    - Nossa evidência empírica cai na área de aceitação ou rejeição?\n",
    "    - Vamos olhar para o valor da estatística e ver se cai entre nossa região delimitada pelos valores críticos;"
   ]
  },
  {
   "cell_type": "markdown",
   "metadata": {},
   "source": [
    "- Vamos construir a distribuição nula:"
   ]
  },
  {
   "cell_type": "code",
   "execution_count": 459,
   "metadata": {},
   "outputs": [],
   "source": [
    "from scipy import stats"
   ]
  },
  {
   "cell_type": "code",
   "execution_count": 423,
   "metadata": {},
   "outputs": [],
   "source": [
    "media_pop = 600\n",
    "desvio_pop = 100\n",
    "erro_padrao = 10"
   ]
  },
  {
   "cell_type": "code",
   "execution_count": 439,
   "metadata": {},
   "outputs": [
    {
     "data": {
      "text/plain": [
       "<matplotlib.collections.LineCollection at 0x1b16bf4ceb0>"
      ]
     },
     "execution_count": 439,
     "metadata": {},
     "output_type": "execute_result"
    },
    {
     "data": {
      "image/png": "[encoded data removed]",
      "text/plain": [
       "<Figure size 1080x720 with 2 Axes>"
      ]
     },
     "metadata": {
      "needs_background": "light"
     },
     "output_type": "display_data"
    }
   ],
   "source": [
    "fig, ax = plt.subplots(nrows=2, ncols=1, figsize=(15,10))\n",
    "\n",
    "# hipótese nula na escala de notas do ENEM\n",
    "distribuicao_normal = sp.stats.norm(loc=media_pop, scale=erro_padrao)\n",
    "x = np.linspace(distribuicao_normal.ppf(0.01), distribuicao_normal.ppf(0.99))\n",
    "ax[0].plot(x, distribuicao_normal.pdf(x),\n",
    "        c='r',\n",
    "        alpha=0.6,\n",
    "        label=f'Normal')\n",
    "\n",
    "ax[0].legend(loc='best', frameon=False)\n",
    "ax[0].vlines(x=[580.4,619.6], ymin=0, ymax=0.045)\n",
    "ax[0].vlines(x=618, ymin=0, ymax=0.045, color='g')\n",
    "\n",
    "# hipótese nula na escala de erro padrão\n",
    "distribuicao_normal = sp.stats.norm(loc=0, scale=1)\n",
    "x = np.linspace(distribuicao_normal.ppf(0.01), distribuicao_normal.ppf(0.99))\n",
    "ax[1].plot(x, distribuicao_normal.pdf(x),\n",
    "        c='r',\n",
    "        alpha=0.6,\n",
    "        label=f'Normal')\n",
    "\n",
    "ax[1].legend(loc='best', frameon=False)\n",
    "ax[1].vlines(x=[-1.96,1.96], ymin=0, ymax=0.45)\n",
    "ax[1].vlines(x=(618-media_pop)/erro_padrao, ymin=0, ymax=0.45, color='g')"
   ]
  },
  {
   "cell_type": "markdown",
   "metadata": {},
   "source": [
    "- Com as informações acima, acitamos $H_{0}$;"
   ]
  },
  {
   "cell_type": "markdown",
   "metadata": {},
   "source": [
    "- Vamos calcular o p-valor:"
   ]
  },
  {
   "cell_type": "code",
   "execution_count": 483,
   "metadata": {},
   "outputs": [
    {
     "data": {
      "text/plain": [
       "(0.03593031911292577, 0.07186063822585154)"
      ]
     },
     "execution_count": 483,
     "metadata": {},
     "output_type": "execute_result"
    }
   ],
   "source": [
    "z = (618-600)/10\n",
    "p_value = (1-stats.norm.cdf(z,loc=0, scale=1))\n",
    "p_value, 2*p_value # multiplica por dois pois é bicaudal\n",
    "\n",
    "# Qual que é a chance de encontrar, pelo puro acaso, uma diferença entre as amostras \n",
    "# mais extrema do que aquela que foi de fato encontrada?"
   ]
  },
  {
   "cell_type": "code",
   "execution_count": 465,
   "metadata": {},
   "outputs": [
    {
     "data": {
      "text/plain": [
       "(-1.9599639845400545, 1.959963984540054)"
      ]
     },
     "execution_count": 465,
     "metadata": {},
     "output_type": "execute_result"
    }
   ],
   "source": [
    "# Calcula o z-score crítico para a probabilidade de interesse\n",
    "prob_1 = .025\n",
    "prob_2 = .975\n",
    "\n",
    "z_crit1 = stats.norm.ppf(prob_1, loc=0, scale=1)\n",
    "z_crit2 = stats.norm.ppf(prob_2, loc=0, scale=1)\n",
    "\n",
    "z_crit1, z_crit2"
   ]
  },
  {
   "cell_type": "code",
   "execution_count": 470,
   "metadata": {
    "scrolled": true
   },
   "outputs": [
    {
     "data": {
      "text/plain": [
       "(0.024999999999999977, 0.975, 0.95)"
      ]
     },
     "execution_count": 470,
     "metadata": {},
     "output_type": "execute_result"
    }
   ],
   "source": [
    "# Calcula a probabilidade associada a um z-score\n",
    "prob_z_crit_1 = stats.norm.cdf(z_crit1,loc=0, scale=1)\n",
    "prob_z_crit_2 = stats.norm.cdf(z_crit2,loc=0, scale=1)\n",
    "\n",
    "prob_z_crit_1, prob_z_crit_2, (prob_z_crit_2-prob_z_crit_1) # Calculando a área debaixo da curva"
   ]
  },
  {
   "cell_type": "markdown",
   "metadata": {},
   "source": [
    "      "
   ]
  },
  {
   "cell_type": "markdown",
   "metadata": {},
   "source": [
    "#### Entrando na definição do que é erro tipo 2: falsos negativos\n",
    "- É o erro de dizer que a hipótese nula é verdadeira quando ela não é;\n",
    "- Ou é dizer que a hipótese alternativa não é verdadeira quando na realidade ela é;"
   ]
  },
  {
   "cell_type": "code",
   "execution_count": null,
   "metadata": {},
   "outputs": [],
   "source": []
  },
  {
   "cell_type": "markdown",
   "metadata": {},
   "source": [
    "#### Atualizar gráfico:\n",
    "- Automatizar para duas teste AB;"
   ]
  },
  {
   "cell_type": "code",
   "execution_count": 476,
   "metadata": {},
   "outputs": [
    {
     "data": {
      "image/png": "[encoded data removed]",
      "text/plain": [
       "<Figure size 864x720 with 1 Axes>"
      ]
     },
     "metadata": {
      "needs_background": "light"
     },
     "output_type": "display_data"
    }
   ],
   "source": [
    "plt.figure(figsize=(12,10))\n",
    "\n",
    "\n",
    "plt.fill_between(x=np.arange(-4,-2,0.01), \n",
    "                 y1= stats.norm.pdf(np.arange(-4,-2,0.01)) ,\n",
    "                 facecolor='red',\n",
    "                 alpha=0.35)\n",
    "\n",
    "plt.fill_between(x=np.arange(-2,2,0.01), \n",
    "                 y1= stats.norm.pdf(np.arange(-2,2,0.01)) ,\n",
    "                 facecolor='grey',\n",
    "                 alpha=0.35)\n",
    "\n",
    "plt.fill_between(x=np.arange(2,4,0.01), \n",
    "                 y1= stats.norm.pdf(np.arange(2,4,0.01)) ,\n",
    "                 facecolor='red',\n",
    "                 alpha=0.5)\n",
    "\n",
    "plt.fill_between(x=np.arange(-4,-2,0.01), \n",
    "                 y1= stats.norm.pdf(np.arange(-4,-2,0.01),loc=3, scale=2) ,\n",
    "                 facecolor='grey',\n",
    "                 alpha=0.35)\n",
    "\n",
    "plt.fill_between(x=np.arange(-2,2,0.01), \n",
    "                 y1= stats.norm.pdf(np.arange(-2,2,0.01),loc=3, scale=2) ,\n",
    "                 facecolor='blue',\n",
    "                 alpha=0.35)\n",
    "\n",
    "plt.fill_between(x=np.arange(2,10,0.01), \n",
    "                 y1= stats.norm.pdf(np.arange(2,10,0.01),loc=3, scale=2),\n",
    "                 facecolor='grey',\n",
    "                 alpha=0.35)\n",
    "\n",
    "plt.text(x=-0.8, y=0.15, s= \"Hipótese Nula\")\n",
    "plt.text(x=2.5, y=0.13, s= \"Hipótese Alternativa\")\n",
    "plt.text(x=2.1, y=0.01, s= \"Erro tipo 1\")\n",
    "plt.text(x=-3.2, y=0.01, s= \"Erro tipo 1\")\n",
    "plt.text(x=0, y=0.02, s= \"Erro tipo 2\");"
   ]
  },
  {
   "cell_type": "code",
   "execution_count": null,
   "metadata": {},
   "outputs": [],
   "source": []
  }
 ],
 "metadata": {
  "kernelspec": {
   "display_name": "Python 3",
   "language": "python",
   "name": "python3"
  },
  "language_info": {
   "codemirror_mode": {
    "name": "ipython",
    "version": 3
   },
   "file_extension": ".py",
   "mimetype": "text/x-python",
   "name": "python",
   "nbconvert_exporter": "python",
   "pygments_lexer": "ipython3",
   "version": "3.8.5"
  }
 },
 "nbformat": 4,
 "nbformat_minor": 4
}
