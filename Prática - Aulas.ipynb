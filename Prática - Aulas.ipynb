{
 "cells": [
  {
   "cell_type": "markdown",
   "metadata": {},
   "source": [
    "# Aula 1 - Inferência Causal"
   ]
  },
  {
   "cell_type": "markdown",
   "metadata": {},
   "source": [
    "- Queremos estabelecer modelos genéricos a partir de situações restritas;\n",
    "\n",
    "- Mostrar exemplos de como usamos estimações no dia-a-dia;\n",
    "- Mostrar exemplos de como poderíamos validar uma máquina, em sua produção;\n",
    "- Mostrar exemplo das eleições;\n",
    "- Mostrar exemplo das vacinas;\n",
    "\n",
    "- Problemas de superstições, conseguimos ver padrões em todo lugar, viéses;\n",
    "    - Apofenia;"
   ]
  },
  {
   "cell_type": "markdown",
   "metadata": {},
   "source": [
    "- Usar a ferramenta estatística para conseguir fazer inferência;\n",
    "- Fugindo de viéses, vamos usar a inferência estatística para inferir comportamentos de uma população usando uma amostra;"
   ]
  },
  {
   "cell_type": "markdown",
   "metadata": {},
   "source": [
    "- A inferência estatística, no fundo, é só uma maneira de manter nossas extrapolações sob controle;\n",
    "- Métodos que nos permitem ter ideia do tamanho e validade das nossas extrapolações;"
   ]
  },
  {
   "cell_type": "markdown",
   "metadata": {},
   "source": [
    "- Mostrar uma análise gráfica e perguntar se há diferença entre grupos;\n",
    "- Mostrar uma outra análise gráfica mais difícil de enxergar a diferença;\n",
    "- Temos que ter métodos mais sofisticados para dizermos que existem diferenças;"
   ]
  },
  {
   "cell_type": "markdown",
   "metadata": {},
   "source": [
    "#### Conceitual de Inferência Estatistica\n",
    "\n",
    "- Ferramenta para gerar conclusões sobre uma população a partir de uma amostra ruidosa;"
   ]
  },
  {
   "cell_type": "markdown",
   "metadata": {},
   "source": [
    "- População: conjunto de todos os elementos ou resultados sob investigação;\n",
    "- Amostra: qualquer subconjunto da população;\n",
    "\n",
    "<hr>\n",
    "\n",
    "![image](./img/inferencia.png)"
   ]
  },
  {
   "cell_type": "code",
   "execution_count": 1,
   "metadata": {},
   "outputs": [],
   "source": [
    "import os"
   ]
  },
  {
   "cell_type": "code",
   "execution_count": 2,
   "metadata": {},
   "outputs": [
    {
     "data": {
      "text/plain": [
       "'C:\\\\Users\\\\vierb\\\\Inferência Causal'"
      ]
     },
     "execution_count": 2,
     "metadata": {},
     "output_type": "execute_result"
    }
   ],
   "source": [
    "os.getcwd()"
   ]
  },
  {
   "cell_type": "code",
   "execution_count": null,
   "metadata": {},
   "outputs": [],
   "source": []
  }
 ],
 "metadata": {
  "kernelspec": {
   "display_name": "Python 3",
   "language": "python",
   "name": "python3"
  },
  "language_info": {
   "codemirror_mode": {
    "name": "ipython",
    "version": 3
   },
   "file_extension": ".py",
   "mimetype": "text/x-python",
   "name": "python",
   "nbconvert_exporter": "python",
   "pygments_lexer": "ipython3",
   "version": "3.8.5"
  }
 },
 "nbformat": 4,
 "nbformat_minor": 4
}
